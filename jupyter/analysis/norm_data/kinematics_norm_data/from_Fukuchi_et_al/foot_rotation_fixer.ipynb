{
 "cells": [
  {
   "cell_type": "markdown",
   "id": "fundamental-blocking",
   "metadata": {},
   "source": [
    "## Flip Foot Rotation in Normative Data\n",
    "\n",
    "It was determined after literature review and review of Cionic data that the Fukuchi normative dataset has the wrong sign for foot rotation. See documentation [here](https://docs.google.com/presentation/d/1xSSItKx6_ZXm_tEPrXqamAaBKmz_xyqhdAlva1iV2ZQ/edit#slide=id.geebae0c2a0_0_1127).\n",
    "\n",
    "This notebook was used to deprecate the old version of the data and flip the normative dataset used for the gait report.\n",
    "\n",
    "Last Updated 9/13/2021"
   ]
  },
  {
   "cell_type": "code",
   "execution_count": null,
   "id": "incredible-music",
   "metadata": {},
   "outputs": [],
   "source": [
    "import pandas as pd\n",
    "import numpy as np"
   ]
  },
  {
   "cell_type": "markdown",
   "id": "french-chapter",
   "metadata": {},
   "source": [
    "### Import current normative dataset"
   ]
  },
  {
   "cell_type": "code",
   "execution_count": null,
   "id": "focused-least",
   "metadata": {},
   "outputs": [],
   "source": [
    "avg_norm = pd.read_csv(\"avg_angles_allage_treadmill_comfspeed_deprecated.csv\") # PREVIOUSLY \"avg_angles_allage_treadmill_comfspeed.csv\""
   ]
  },
  {
   "cell_type": "markdown",
   "id": "ideal-egyptian",
   "metadata": {},
   "source": [
    "### Deprecate previous version of normative dataset"
   ]
  },
  {
   "cell_type": "code",
   "execution_count": null,
   "id": "seasonal-costume",
   "metadata": {},
   "outputs": [],
   "source": [
    "avg_norm.to_csv(\"avg_angles_allage_treadmill_comfspeed_deprecated.csv\", index=False)"
   ]
  },
  {
   "cell_type": "markdown",
   "id": "unsigned-phenomenon",
   "metadata": {},
   "source": [
    "### Flip signs of foot rotation columns"
   ]
  },
  {
   "cell_type": "code",
   "execution_count": null,
   "id": "measured-application",
   "metadata": {},
   "outputs": [],
   "source": [
    "Rcol = [\"RFootAngleY\"]\n",
    "Rcol.extend([pd.to_numeric(avg_norm['R_Foot Int/External Rotation'][1:len(avg_norm)])*-1][0])\n",
    "\n",
    "Lcol = [\"LFootAngleY\"]\n",
    "Lcol.extend([pd.to_numeric(avg_norm['L_Foot Int/External Rotation'][1:len(avg_norm)])*-1][0])\n",
    "    \n",
    "avg_norm['R_Foot Int/External Rotation'] = Rcol\n",
    "avg_norm['L_Foot Int/External Rotation'] = Lcol"
   ]
  },
  {
   "cell_type": "markdown",
   "id": "coral-robert",
   "metadata": {},
   "source": [
    "### Overwrites normative data with flipped version"
   ]
  },
  {
   "cell_type": "code",
   "execution_count": null,
   "id": "circular-sixth",
   "metadata": {},
   "outputs": [],
   "source": [
    "avg_norm.to_csv(\"avg_angles_allage_treadmill_comfspeed.csv\", index=False)"
   ]
  },
  {
   "cell_type": "code",
   "execution_count": null,
   "id": "fitted-brazil",
   "metadata": {},
   "outputs": [],
   "source": []
  }
 ],
 "metadata": {
  "kernelspec": {
   "display_name": "Python 3",
   "language": "python",
   "name": "python3"
  },
  "language_info": {
   "codemirror_mode": {
    "name": "ipython",
    "version": 3
   },
   "file_extension": ".py",
   "mimetype": "text/x-python",
   "name": "python",
   "nbconvert_exporter": "python",
   "pygments_lexer": "ipython3",
   "version": "3.8.6"
  }
 },
 "nbformat": 4,
 "nbformat_minor": 5
}
