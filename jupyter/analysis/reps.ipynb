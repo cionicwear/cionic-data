{
 "cells": [
  {
   "cell_type": "markdown",
   "metadata": {},
   "source": [
    "# Reps Report\n",
    "\n",
    "This notebook generates an emg and kinematics report from repetitive movements segemented by labels.\n",
    "Protocols with repeat labesl can use this report to look at emg, limb position, and joint angles for each labeled segment\n",
    "\n",
    "This report can be parameterized by defining a movements dictionary in the runner\n",
    "\n",
    "```\n",
    "{ \n",
    "  \"movements\" : {\n",
    "    \"r_raise\" : {\n",
    "        \"label\"  : \"raise\",\n",
    "        \"emgs\"   : [\"r_shank_emg\"],\n",
    "        \"limbs\" : [\"r_shank\",\"r_foot\"],\n",
    "        \"joints\" : [\n",
    "             {\n",
    "                \"a\" : \"r_foot\", \n",
    "                \"b\" : \"r_shank\",\n",
    "                \"-x\" : \"dorsi_flexion\",\n",
    "                \"-y\" : \"ankle_eversion\",\n",
    "                \"-z\" : \"ankle_rotation\"\n",
    "             }\n",
    "        ]\n",
    "    }\n",
    "  }\n",
    "}\n",
    "```\n",
    "\n",
    "For more fun try parameterizing the presentation as well\n",
    "\n",
    "```\n",
    "{\n",
    "  \"presentation\" : {\n",
    "    \"style\"  : \"seaborn-pastel\",\n",
    "    \"title\"  : \"off\",\n",
    "    \"legend\" : \"off\"\n",
    "}\n",
    "```"
   ]
  },
  {
   "cell_type": "code",
   "execution_count": null,
   "metadata": {},
   "outputs": [],
   "source": [
    "%load_ext autoreload\n",
    "%autoreload 2\n",
    "\n",
    "import os\n",
    "\n",
    "import numpy as np\n",
    "import pandas as pd\n",
    "\n",
    "import cionic\n",
    "from cionic import tools\n",
    "from cionic.kinematics import CycleAxis, Kinematics"
   ]
  },
  {
   "cell_type": "markdown",
   "metadata": {},
   "source": [
    "## Load Collection\n",
    "\n",
    "Download or construct the npz for the collection to be analyzed, and save it to the recordings directory.\n",
    "\n",
    "As a sanity check print out the **positions**, **labels**, and **stream names**\n"
   ]
  },
  {
   "cell_type": "code",
   "execution_count": null,
   "metadata": {
    "tags": [
     "parameters"
    ]
   },
   "outputs": [],
   "source": [
    "# param\n",
    "\n",
    "npzpath = None\n",
    "download = None\n",
    "tokenpath = None\n",
    "presentation = {}"
   ]
  },
  {
   "cell_type": "code",
   "execution_count": null,
   "metadata": {},
   "outputs": [],
   "source": [
    "if download:\n",
    "    cionic.auth(tokenpath=tokenpath)\n",
    "    cionic.download_npz(npzpath, download)\n",
    "\n",
    "npz = cionic.load_segmented(npzpath)\n",
    "regs = tools.stream_regs(np.load(npzpath))  # can only be loaded from original npz\n",
    "outpath = os.path.splitext(npzpath)[0] + '.pdf'\n",
    "\n",
    "if 'position' in npz['segments'].dtype.names:\n",
    "    print(f\"Positions: {set(npz['segments']['position'])}\")\n",
    "\n",
    "if 'label' in npz['segments'].dtype.names:\n",
    "    print(f\"Labels: {set(npz['segments']['label'])}\")\n",
    "\n",
    "if 'stream' in npz['segments'].dtype.names:\n",
    "    print(f\"Stream: {set(npz['segments']['stream'])}\")"
   ]
  },
  {
   "cell_type": "markdown",
   "metadata": {},
   "source": [
    "## Configure Movement Processor\n",
    "\n",
    "Using the markup definition described at the beginning of this document, load the neccessary data to render each movement"
   ]
  },
  {
   "cell_type": "code",
   "execution_count": null,
   "metadata": {},
   "outputs": [],
   "source": [
    "segments = pd.DataFrame(npz['segments'])\n",
    "\n",
    "# initialize kinematics\n",
    "k = Kinematics({})\n",
    "\n",
    "# load streams that match label and positions\n",
    "for movement in movements.keys():\n",
    "\n",
    "    # calculate needed positions from emgs, angles, joints\n",
    "    positions = set(\n",
    "        movements[movement].get('emgs', []) + movements[movement].get('limbs', [])\n",
    "    )\n",
    "    for joint in movements[movement].get('joints', []):\n",
    "        positions.add(joint[\"a\"])\n",
    "        positions.add(joint[\"b\"])\n",
    "\n",
    "    streams = segments.query(f'position in {list(positions)}')\n",
    "    for index, seg in streams.iterrows():\n",
    "        # to override elapsed_s with time calculated by sample rate\n",
    "        # k.load_array(side, seg['position'], seg['stream'], npz[seg['path']], regs.get(seg['device'], hz=seg['avg_rate_hz'])\n",
    "\n",
    "        # to select a specific time range out of a longer recording\n",
    "        # k.load_array(side, seg['position'], seg['stream'], npz[seg['path']], regs.get(seg['device'], time_range=[170.0,220.0])\n",
    "\n",
    "        k.load_array(\n",
    "            movement,\n",
    "            seg['position'],\n",
    "            seg['stream'],\n",
    "            npz[seg['path']],\n",
    "            regs.get(seg['device']),\n",
    "            time_range=[np.min(streams['start_s']), np.max(streams['end_s'])],\n",
    "        )\n",
    "\n",
    "        if 'chanpos' in seg:\n",
    "            k.load_channel_pos(movement, seg['position'], seg['stream'], seg['chanpos'])\n",
    "\n",
    "        if 'calibration' in seg:\n",
    "            k.load_calibration(\n",
    "                movement, seg['position'], seg['stream'], seg['calibration']\n",
    "            )"
   ]
  },
  {
   "cell_type": "markdown",
   "metadata": {},
   "source": [
    "## Calculate Normalized EMG\n",
    "\n",
    "Compute normalized EMG according to **emg_params** \n",
    "\n",
    "normalization algorithms\n",
    "* k.butter_emg 1. convert to uV with 4V reference 2. signal.butter 3. RMS \n",
    "* k.butter_emg 1. convert to uV with 4V reference 2. signal.firwin 3. RMS\n",
    "\n",
    "\n"
   ]
  },
  {
   "cell_type": "code",
   "execution_count": null,
   "metadata": {},
   "outputs": [],
   "source": [
    "emg_filter_butter = {\n",
    "    'filter': tools.butter_highpass_filter,\n",
    "    'filter_order': 5,\n",
    "    'cutoff_freq': 50,\n",
    "    'rms_window': 301,\n",
    "    'normalize': None,\n",
    "}\n",
    "\n",
    "for movement in movements.keys():\n",
    "    k.calculate_emgs(movement, movements[movement].get('emgs', []), emg_filter_butter)"
   ]
  },
  {
   "cell_type": "markdown",
   "metadata": {},
   "source": [
    "## Calculate Limb and Joint Angles\n",
    "\n",
    "Once the kinematics engine is configured, we can compute the angles of the limbs and the angles of the joints.\n",
    "\n",
    "This step applies the sensor calibrations and then converts the results into euler angles for presentation."
   ]
  },
  {
   "cell_type": "code",
   "execution_count": null,
   "metadata": {},
   "outputs": [],
   "source": [
    "# calculate joint angles an group\n",
    "for movement in movements.keys():\n",
    "    joints = movements[movement].get('joints', [])\n",
    "    if joints:\n",
    "        # convert jsonable dict to kinematics expected form\n",
    "        jc = {\n",
    "            (j[\"a\"], j[\"b\"]): {a: j[a] for a in j if a not in [\"a\", \"b\"]}\n",
    "            for j in joints\n",
    "        }\n",
    "        k.calculate_joint_angles(movement, jc)\n",
    "    limbs = movements[movement].get('limbs', [])\n",
    "    if limbs:\n",
    "        k.calculate_limb_angles(movement, limbs)"
   ]
  },
  {
   "cell_type": "markdown",
   "metadata": {},
   "source": [
    "## Calculate Splits\n",
    "\n",
    "Using study labels create a set of splits named *segment*"
   ]
  },
  {
   "cell_type": "code",
   "execution_count": null,
   "metadata": {},
   "outputs": [],
   "source": [
    "for name, config in movements.items():\n",
    "    label = config[\"label\"]\n",
    "    k.calculate_segment_splits(name, label, 'segment', streams)"
   ]
  },
  {
   "cell_type": "markdown",
   "metadata": {},
   "source": [
    "## Generate Report\n",
    "\n",
    "Visualize splits and save to pdf"
   ]
  },
  {
   "cell_type": "code",
   "execution_count": null,
   "metadata": {},
   "outputs": [],
   "source": [
    "k.save_open(outpath)\n",
    "\n",
    "for name, config in movements.items():\n",
    "    # draw the emg graphs\n",
    "    emgs = config.get(\"emgs\")\n",
    "    if emgs:\n",
    "        emg_config = {name: {}}\n",
    "        for emg in emgs:\n",
    "            emg_config[name].update(\n",
    "                {\n",
    "                    emg: [\n",
    "                        pos\n",
    "                        for pos in k.groups[name][emg].keys()\n",
    "                        if pos not in [\"adcf\", \"emg\"]\n",
    "                    ]\n",
    "                }\n",
    "            )\n",
    "        k.save_text(f\"{name} emg\", width=20, height=10)\n",
    "        k.plot_splits(\n",
    "            'segment',\n",
    "            config=emg_config,\n",
    "            component='emg',\n",
    "            width=20,\n",
    "            sheight=5,\n",
    "            xaxis=CycleAxis(),\n",
    "            markers={},\n",
    "            presentation=presentation,\n",
    "        )\n",
    "    # draw the limbs\n",
    "    limbs = config.get(\"limbs\")\n",
    "    if limbs:\n",
    "        limb_config = {name: {}}\n",
    "        for limb in limbs:\n",
    "            # pull the limb angles up one level in the kinematics object\n",
    "            # and then draw them\n",
    "            components = [\n",
    "                c for c in k.groups[name][limb][\"euler\"].dtype.names if c != \"elapsed_s\"\n",
    "            ]\n",
    "            for component in components:\n",
    "                rekey = f\"{limb}_{component}\"\n",
    "                k.groups[name][rekey][\"angle\"] = k.groups[name][limb][\"euler\"][\n",
    "                    [component, \"elapsed_s\"]\n",
    "                ]\n",
    "                k.groups[name][rekey][\"angle\"].dtype.names = [\"degrees\", \"elapsed_s\"]\n",
    "                limb_config[name].update({rekey: [\"angle\"]})\n",
    "        k.save_text(f\"{name} limbs\", width=20, height=10)\n",
    "        k.plot_splits(\n",
    "            'segment',\n",
    "            config=limb_config,\n",
    "            component='degrees',\n",
    "            width=20,\n",
    "            sheight=5,\n",
    "            xaxis=CycleAxis(),\n",
    "            markers={},\n",
    "            presentation=presentation,\n",
    "        )\n",
    "    # draw the joints\n",
    "    joints = config.get(\"joints\")\n",
    "    if joints:\n",
    "        joint_config = {name: {}}\n",
    "        for joint in joints:\n",
    "            joint_config[name].update(\n",
    "                {n: [\"angle\"] for (a, n) in joint.items() if a not in [\"a\", \"b\"]}\n",
    "            )\n",
    "        k.save_text(f\"{name} joints\", width=20, height=10)\n",
    "        k.plot_splits(\n",
    "            'segment',\n",
    "            config=joint_config,\n",
    "            component='degrees',\n",
    "            width=20,\n",
    "            sheight=5,\n",
    "            xaxis=CycleAxis(),\n",
    "            markers={},\n",
    "            presentation=presentation,\n",
    "        )\n",
    "\n",
    "k.save_close()"
   ]
  }
 ],
 "metadata": {
  "kernelspec": {
   "display_name": "Python 3 (ipykernel)",
   "language": "python",
   "name": "python3"
  },
  "language_info": {
   "codemirror_mode": {
    "name": "ipython",
    "version": 3
   },
   "file_extension": ".py",
   "mimetype": "text/x-python",
   "name": "python",
   "nbconvert_exporter": "python",
   "pygments_lexer": "ipython3",
   "version": "3.11.4"
  }
 },
 "nbformat": 4,
 "nbformat_minor": 4
}
