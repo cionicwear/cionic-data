{
 "cells": [
  {
   "cell_type": "markdown",
   "metadata": {},
   "source": [
    "# Parse\n",
    "\n",
    "This notebook shows a simple example of extracting data from the npz file"
   ]
  },
  {
   "cell_type": "code",
   "execution_count": null,
   "metadata": {},
   "outputs": [],
   "source": [
    "%load_ext autoreload\n",
    "%autoreload 2\n",
    "\n",
    "import os\n",
    "\n",
    "import matplotlib.pyplot as plt\n",
    "import numpy as np\n",
    "import pandas as pd\n",
    "\n",
    "import cionic\n",
    "from cionic import tools"
   ]
  },
  {
   "cell_type": "markdown",
   "metadata": {},
   "source": [
    "## Load Collection\n",
    "\n",
    "Download or construct the npz for the collection to be analyzed, and save it to the recordings directory.\n",
    "\n",
    "As a sanity check print out the **positions**, **labels**, and **stream names**\n"
   ]
  },
  {
   "cell_type": "code",
   "execution_count": null,
   "metadata": {
    "tags": [
     "parameters"
    ]
   },
   "outputs": [],
   "source": [
    "# param\n",
    "\n",
    "npzpath = None\n",
    "download = None\n",
    "tokenpath = None\n",
    "presentation = {}"
   ]
  },
  {
   "cell_type": "code",
   "execution_count": null,
   "metadata": {},
   "outputs": [],
   "source": [
    "if download:\n",
    "    cionic.auth(tokenpath=tokenpath)\n",
    "    cionic.download_npz(npzpath, download)\n",
    "\n",
    "npz = cionic.load_segmented(npzpath)\n",
    "regs = tools.stream_regs(np.load(npzpath))  # can only be loaded from original npz\n",
    "outpath = os.path.splitext(npzpath)[0] + '.pdf'\n",
    "\n",
    "if 'position' in npz['segments'].dtype.names:\n",
    "    print(f\"Positions: {set(npz['segments']['position'])}\")\n",
    "\n",
    "if 'label' in npz['segments'].dtype.names:\n",
    "    print(f\"Labels: {set(npz['segments']['label'])}\")\n",
    "\n",
    "if 'stream' in npz['segments'].dtype.names:\n",
    "    print(f\"Stream: {set(npz['segments']['stream'])}\")"
   ]
  },
  {
   "cell_type": "markdown",
   "metadata": {},
   "source": [
    "# Using Parsed Data\n",
    "\n",
    "The segmented npz file contains .npy files of time series data for each stream and label\n",
    "\n",
    "The npz also contains a `segments` file that describes each of the segmets\n",
    "\n",
    "in the example below we will search the segments file for EMG streams, display a subset of the available fields\n",
    "\n",
    "and plot the first available stream"
   ]
  },
  {
   "cell_type": "code",
   "execution_count": null,
   "metadata": {},
   "outputs": [],
   "source": [
    "# show available fields in npz segments file\n",
    "df = pd.DataFrame(npz['segments'])\n",
    "list(df.keys())"
   ]
  },
  {
   "cell_type": "code",
   "execution_count": null,
   "metadata": {},
   "outputs": [],
   "source": [
    "# show EMG streams, displaying a subset of fields\n",
    "emg_df = df[df['stream'] == 'emg'][\n",
    "    ['label', 'position', 'start_s', 'end_s', 'segment_num', 'path']\n",
    "]\n",
    "emg_df"
   ]
  },
  {
   "cell_type": "code",
   "execution_count": null,
   "metadata": {},
   "outputs": [],
   "source": [
    "# load .npy file for the first emg segment\n",
    "#\n",
    "# tools.load_streams takes any passed kwargs and filters the npz\n",
    "#\n",
    "# examples:\n",
    "#     streams = tools.load_streams(npz, stream='emg', label=['unassisted','stimulated'])\n",
    "#     streams = tools.load_streams(npz, stream='fquat', label=['bend','stand'])\n",
    "#\n",
    "# the result is a lit of stream dictionaries with stream, position, label, segment, and values\n",
    "# where values is a numpy array of the time series data\n",
    "\n",
    "path = emg_df.iloc[0].path\n",
    "streams = tools.load_streams(npz, path=path)\n",
    "streams"
   ]
  },
  {
   "cell_type": "code",
   "execution_count": null,
   "metadata": {},
   "outputs": [],
   "source": [
    "# plot first stream channel 3\n",
    "\n",
    "plt.plot(streams[0]['values']['c3'])\n",
    "plt.show()"
   ]
  }
 ],
 "metadata": {
  "kernelspec": {
   "display_name": "Python 3 (ipykernel)",
   "language": "python",
   "name": "python3"
  },
  "language_info": {
   "codemirror_mode": {
    "name": "ipython",
    "version": 3
   },
   "file_extension": ".py",
   "mimetype": "text/x-python",
   "name": "python",
   "nbconvert_exporter": "python",
   "pygments_lexer": "ipython3",
   "version": "3.11.4"
  }
 },
 "nbformat": 4,
 "nbformat_minor": 4
}
